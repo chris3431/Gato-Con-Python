{
 "cells": [
  {
   "cell_type": "code",
   "execution_count": 36,
   "id": "323a5a95",
   "metadata": {},
   "outputs": [],
   "source": [
    "# La libreria collections-deque nos permite crear y utilizar una cola en Python\n",
    "# de esta forma podemos usar el metodo rotate para rotar los jugadores\n",
    "from collections import deque\n",
    "turno = deque([\"O\", \"X\"])\n",
    "tablero = [[\" \", \" \", \" \"],\n",
    "           [\" \", \" \", \" \"],\n",
    "           [\" \", \" \", \" \"]]"
   ]
  },
  {
   "cell_type": "code",
   "execution_count": 37,
   "id": "81a4db8f",
   "metadata": {},
   "outputs": [],
   "source": [
    "#Este metodo es para mostrar el tablero\n",
    "def mostrar_tablero():\n",
    "    print(\"\")\n",
    "    for fila in tablero:\n",
    "        print (fila)\n",
    "#La funcion de este metodo es la de actualizar el tablero con el valor ingresado\n",
    "def actualizar_tablero(posicion, jugador):\n",
    "    tablero[posicion[0]][posicion[1]] = jugador\n",
    "#Con este metodo se puede ir rotando a los jugadores    \n",
    "def rotar_turno():\n",
    "    turno.rotate()\n",
    "    return turno[0]"
   ]
  },
  {
   "cell_type": "code",
   "execution_count": 38,
   "id": "3dc2ac73",
   "metadata": {},
   "outputs": [],
   "source": [
    "#Este metodo recibe un valor y luego devuelve una posicion\n",
    "def procesar_posicion(posicion):\n",
    "    fila, columna = posicion.split(\",\")\n",
    "    return [int(fila), int(columna)]\n",
    "#este metodo es para verificar si la posicion ingresada esta disponible\n",
    "def posicion_correcta(posicion):\n",
    "    if 0 <= posicion[0] <= 2 and 0 <= posicion[1] <= 2:\n",
    "        if tablero[posicion[0]][posicion[1]] == \" \":\n",
    "            return True\n",
    "    return False"
   ]
  },
  {
   "cell_type": "code",
   "execution_count": 39,
   "id": "9277af77",
   "metadata": {},
   "outputs": [],
   "source": [
    "#este metodo recibe un valor ya sea el X o O y luego los verifica con respuestas anteriores para definir un ganador\n",
    "#en los ifs se puede visualizar todas las posibilidades en las que un jugador puede ganar y emitir un resultado en este caso\n",
    "def ganador(j):\n",
    "    #compara las filas del tablero\n",
    "    if tablero[0] == [j,j,j] or tablero[1] == [j,j,j] or tablero[2] == [j,j,j]:\n",
    "        cont=1\n",
    "        return True\n",
    "    #compara las columnas\n",
    "    elif tablero[0][0] == j and tablero[1][0] == j and tablero[2][0] == j:\n",
    "        cont=1\n",
    "        return True\n",
    "    elif tablero[0][1] == j and tablero[1][1] == j and tablero[2][1] == j:\n",
    "        cont=1\n",
    "        return True\n",
    "    elif tablero[0][2] == j and tablero[1][2] == j and tablero[2][2] == j:\n",
    "        cont=1\n",
    "        return True\n",
    "    #compara las diagonales\n",
    "    elif tablero[0][0] == j and tablero[1][1] == j and tablero[2][2] == j:\n",
    "        cont=1\n",
    "        return True\n",
    "    elif tablero[0][2] == j and tablero[1][1] == j and tablero[2][0] == j:\n",
    "        cont=1\n",
    "        return True\n",
    "    return False"
   ]
  },
  {
   "cell_type": "code",
   "execution_count": 40,
   "id": "f5c63432",
   "metadata": {},
   "outputs": [
    {
     "name": "stdout",
     "output_type": "stream",
     "text": [
      "\n",
      "[' ', ' ', ' ']\n",
      "[' ', ' ', ' ']\n",
      "[' ', ' ', ' ']\n"
     ]
    },
    {
     "ename": "KeyboardInterrupt",
     "evalue": "Interrupted by user",
     "output_type": "error",
     "traceback": [
      "\u001b[1;31m---------------------------------------------------------------------------\u001b[0m",
      "\u001b[1;31mKeyboardInterrupt\u001b[0m                         Traceback (most recent call last)",
      "\u001b[1;32m<ipython-input-40-78f4587a74ac>\u001b[0m in \u001b[0;36m<module>\u001b[1;34m\u001b[0m\n\u001b[0;32m     29\u001b[0m             \u001b[0mprint\u001b[0m \u001b[1;33m(\u001b[0m\u001b[1;34m\"Empate!!!!!\"\u001b[0m\u001b[1;33m)\u001b[0m\u001b[1;33m\u001b[0m\u001b[1;33m\u001b[0m\u001b[0m\n\u001b[0;32m     30\u001b[0m             \u001b[1;32mbreak\u001b[0m\u001b[1;33m\u001b[0m\u001b[1;33m\u001b[0m\u001b[0m\n\u001b[1;32m---> 31\u001b[1;33m \u001b[0mmain\u001b[0m\u001b[1;33m(\u001b[0m\u001b[1;33m)\u001b[0m\u001b[1;33m\u001b[0m\u001b[1;33m\u001b[0m\u001b[0m\n\u001b[0m",
      "\u001b[1;32m<ipython-input-40-78f4587a74ac>\u001b[0m in \u001b[0;36mmain\u001b[1;34m()\u001b[0m\n\u001b[0;32m      7\u001b[0m     \u001b[0mjugador\u001b[0m \u001b[1;33m=\u001b[0m \u001b[0mrotar_turno\u001b[0m\u001b[1;33m(\u001b[0m\u001b[1;33m)\u001b[0m\u001b[1;33m\u001b[0m\u001b[1;33m\u001b[0m\u001b[0m\n\u001b[0;32m      8\u001b[0m     \u001b[1;32mwhile\u001b[0m \u001b[1;32mTrue\u001b[0m\u001b[1;33m:\u001b[0m\u001b[1;33m\u001b[0m\u001b[1;33m\u001b[0m\u001b[0m\n\u001b[1;32m----> 9\u001b[1;33m         \u001b[0mposicion\u001b[0m \u001b[1;33m=\u001b[0m \u001b[0minput\u001b[0m\u001b[1;33m(\u001b[0m\u001b[1;34m\"Juega el jugador {}, elige una posicion ejemplo:'0,1' o escriba:'salir' para salir\"\u001b[0m\u001b[1;33m.\u001b[0m\u001b[0mformat\u001b[0m\u001b[1;33m(\u001b[0m\u001b[0mjugador\u001b[0m\u001b[1;33m)\u001b[0m\u001b[1;33m)\u001b[0m\u001b[1;33m\u001b[0m\u001b[1;33m\u001b[0m\u001b[0m\n\u001b[0m\u001b[0;32m     10\u001b[0m         \u001b[1;32mif\u001b[0m \u001b[0mposicion\u001b[0m \u001b[1;33m==\u001b[0m \u001b[1;34m'salir'\u001b[0m\u001b[1;33m:\u001b[0m\u001b[1;33m\u001b[0m\u001b[1;33m\u001b[0m\u001b[0m\n\u001b[0;32m     11\u001b[0m             \u001b[0mprint\u001b[0m \u001b[1;33m(\u001b[0m\u001b[1;34m\"Ha decidido abandonar el juego como un cobarde\"\u001b[0m\u001b[1;33m)\u001b[0m\u001b[1;33m\u001b[0m\u001b[1;33m\u001b[0m\u001b[0m\n",
      "\u001b[1;32m~\\anaconda3\\lib\\site-packages\\ipykernel\\kernelbase.py\u001b[0m in \u001b[0;36mraw_input\u001b[1;34m(self, prompt)\u001b[0m\n\u001b[0;32m    858\u001b[0m                 \u001b[1;34m\"raw_input was called, but this frontend does not support input requests.\"\u001b[0m\u001b[1;33m\u001b[0m\u001b[1;33m\u001b[0m\u001b[0m\n\u001b[0;32m    859\u001b[0m             )\n\u001b[1;32m--> 860\u001b[1;33m         return self._input_request(str(prompt),\n\u001b[0m\u001b[0;32m    861\u001b[0m             \u001b[0mself\u001b[0m\u001b[1;33m.\u001b[0m\u001b[0m_parent_ident\u001b[0m\u001b[1;33m,\u001b[0m\u001b[1;33m\u001b[0m\u001b[1;33m\u001b[0m\u001b[0m\n\u001b[0;32m    862\u001b[0m             \u001b[0mself\u001b[0m\u001b[1;33m.\u001b[0m\u001b[0m_parent_header\u001b[0m\u001b[1;33m,\u001b[0m\u001b[1;33m\u001b[0m\u001b[1;33m\u001b[0m\u001b[0m\n",
      "\u001b[1;32m~\\anaconda3\\lib\\site-packages\\ipykernel\\kernelbase.py\u001b[0m in \u001b[0;36m_input_request\u001b[1;34m(self, prompt, ident, parent, password)\u001b[0m\n\u001b[0;32m    902\u001b[0m             \u001b[1;32mexcept\u001b[0m \u001b[0mKeyboardInterrupt\u001b[0m\u001b[1;33m:\u001b[0m\u001b[1;33m\u001b[0m\u001b[1;33m\u001b[0m\u001b[0m\n\u001b[0;32m    903\u001b[0m                 \u001b[1;31m# re-raise KeyboardInterrupt, to truncate traceback\u001b[0m\u001b[1;33m\u001b[0m\u001b[1;33m\u001b[0m\u001b[1;33m\u001b[0m\u001b[0m\n\u001b[1;32m--> 904\u001b[1;33m                 \u001b[1;32mraise\u001b[0m \u001b[0mKeyboardInterrupt\u001b[0m\u001b[1;33m(\u001b[0m\u001b[1;34m\"Interrupted by user\"\u001b[0m\u001b[1;33m)\u001b[0m \u001b[1;32mfrom\u001b[0m \u001b[1;32mNone\u001b[0m\u001b[1;33m\u001b[0m\u001b[1;33m\u001b[0m\u001b[0m\n\u001b[0m\u001b[0;32m    905\u001b[0m             \u001b[1;32mexcept\u001b[0m \u001b[0mException\u001b[0m \u001b[1;32mas\u001b[0m \u001b[0me\u001b[0m\u001b[1;33m:\u001b[0m\u001b[1;33m\u001b[0m\u001b[1;33m\u001b[0m\u001b[0m\n\u001b[0;32m    906\u001b[0m                 \u001b[0mself\u001b[0m\u001b[1;33m.\u001b[0m\u001b[0mlog\u001b[0m\u001b[1;33m.\u001b[0m\u001b[0mwarning\u001b[0m\u001b[1;33m(\u001b[0m\u001b[1;34m\"Invalid Message:\"\u001b[0m\u001b[1;33m,\u001b[0m \u001b[0mexc_info\u001b[0m\u001b[1;33m=\u001b[0m\u001b[1;32mTrue\u001b[0m\u001b[1;33m)\u001b[0m\u001b[1;33m\u001b[0m\u001b[1;33m\u001b[0m\u001b[0m\n",
      "\u001b[1;31mKeyboardInterrupt\u001b[0m: Interrupted by user"
     ]
    }
   ],
   "source": [
    "#En este main se usan los metodo anteriormente programados\n",
    "#y se ingresa 2 contadores para verificar si entro en algun if del metodo ganador() sino emite un mensaje de empate\n",
    "def main():\n",
    "    i=0\n",
    "    cont=0\n",
    "    mostrar_tablero()\n",
    "    jugador = rotar_turno()\n",
    "    while True:\n",
    "        posicion = input(\"Juega el jugador {}, elige una posicion ejemplo:'0,1' o escriba:'salir' para salir\".format(jugador))\n",
    "        if posicion == 'salir':\n",
    "            print (\"Ha decidido abandonar el juego como un cobarde\")\n",
    "            break\n",
    "        try:\n",
    "            posicion_l = procesar_posicion (posicion)\n",
    "        except:\n",
    "            print (\"Error, posicion {} no es posible. \".format(posicion))\n",
    "            continue\n",
    "        if posicion_correcta(posicion_l):\n",
    "            i+=1\n",
    "            actualizar_tablero(posicion_l, jugador)\n",
    "            mostrar_tablero()\n",
    "            if ganador(jugador):\n",
    "                print (\"Jugador de {} ganó\".format(jugador))\n",
    "                break\n",
    "            jugador = rotar_turno()\n",
    "        else:\n",
    "            print (\"Posicion {} no es valida\".format(posicion))\n",
    "        if cont==0 and i==9:\n",
    "            print (\"Empate!!!\")\n",
    "            break\n",
    "main()"
   ]
  },
  {
   "cell_type": "code",
   "execution_count": null,
   "id": "7436102a",
   "metadata": {},
   "outputs": [],
   "source": []
  },
  {
   "cell_type": "code",
   "execution_count": null,
   "id": "f6ac2265",
   "metadata": {},
   "outputs": [],
   "source": []
  }
 ],
 "metadata": {
  "kernelspec": {
   "display_name": "Python 3",
   "language": "python",
   "name": "python3"
  },
  "language_info": {
   "codemirror_mode": {
    "name": "ipython",
    "version": 3
   },
   "file_extension": ".py",
   "mimetype": "text/x-python",
   "name": "python",
   "nbconvert_exporter": "python",
   "pygments_lexer": "ipython3",
   "version": "3.8.8"
  }
 },
 "nbformat": 4,
 "nbformat_minor": 5
}
